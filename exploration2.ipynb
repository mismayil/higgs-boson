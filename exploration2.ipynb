{
 "cells": [
  {
   "cell_type": "code",
   "execution_count": 2,
   "metadata": {},
   "outputs": [],
   "source": [
    "# Useful starting lines\n",
    "%matplotlib inline\n",
    "import numpy as np\n",
    "import matplotlib.pyplot as plt\n",
    "%load_ext autoreload\n",
    "%autoreload 2"
   ]
  },
  {
   "cell_type": "code",
   "execution_count": 27,
   "metadata": {},
   "outputs": [],
   "source": [
    "from proj1_helpers import *\n",
    "DATA_TRAIN_PATH = 'data/train.csv' # TODO: download train data and supply path here \n",
    "y, tX, ids = load_csv_data(DATA_TRAIN_PATH)"
   ]
  },
  {
   "cell_type": "code",
   "execution_count": 28,
   "metadata": {},
   "outputs": [
    {
     "data": {
      "text/plain": [
       "array([[ 138.47 ,   51.655,   97.827, ...,    1.24 ,   -2.475,  113.497],\n",
       "       [ 160.937,   68.768,  103.235, ..., -999.   , -999.   ,   46.226],\n",
       "       [-999.   ,  162.172,  125.953, ..., -999.   , -999.   ,   44.251],\n",
       "       ...,\n",
       "       [ 105.457,   60.526,   75.839, ..., -999.   , -999.   ,   41.992],\n",
       "       [  94.951,   19.362,   68.812, ..., -999.   , -999.   ,    0.   ],\n",
       "       [-999.   ,   72.756,   70.831, ..., -999.   , -999.   ,    0.   ]])"
      ]
     },
     "execution_count": 28,
     "metadata": {},
     "output_type": "execute_result"
    }
   ],
   "source": [
    "tX"
   ]
  },
  {
   "cell_type": "code",
   "execution_count": 29,
   "metadata": {},
   "outputs": [
    {
     "data": {
      "text/plain": [
       "(250000, 30)"
      ]
     },
     "execution_count": 29,
     "metadata": {},
     "output_type": "execute_result"
    }
   ],
   "source": [
    "tX.shape"
   ]
  },
  {
   "cell_type": "code",
   "execution_count": 30,
   "metadata": {},
   "outputs": [
    {
     "name": "stdout",
     "output_type": "stream",
     "text": [
      "[dtype('float64'), dtype('float64'), dtype('float64'), dtype('float64'), dtype('float64'), dtype('float64'), dtype('float64'), dtype('float64'), dtype('float64'), dtype('float64'), dtype('float64'), dtype('float64'), dtype('float64'), dtype('float64'), dtype('float64'), dtype('float64'), dtype('float64'), dtype('float64'), dtype('float64'), dtype('float64'), dtype('float64'), dtype('float64'), dtype('float64'), dtype('float64'), dtype('float64'), dtype('float64'), dtype('float64'), dtype('float64'), dtype('float64'), dtype('float64')]\n"
     ]
    }
   ],
   "source": [
    "print([tX[:, col].dtype for col in range(30)])"
   ]
  },
  {
   "cell_type": "code",
   "execution_count": 31,
   "metadata": {},
   "outputs": [
    {
     "data": {
      "text/plain": [
       "array([ 38114,      0,      0,      0, 177457, 177457, 177457,      0,\n",
       "            0,      0,      0,      0, 177457,      0,      0,      0,\n",
       "            0,      0,      0,      0,      0,      0,      0,  99913,\n",
       "        99913,  99913, 177457, 177457, 177457,      0])"
      ]
     },
     "execution_count": 31,
     "metadata": {},
     "output_type": "execute_result"
    }
   ],
   "source": [
    "np.count_nonzero(tX == -999, axis=0)"
   ]
  },
  {
   "cell_type": "code",
   "execution_count": 32,
   "metadata": {},
   "outputs": [],
   "source": [
    "row_nan_pct = np.count_nonzero(tX == -999, axis=0) / len(tX)"
   ]
  },
  {
   "cell_type": "code",
   "execution_count": 33,
   "metadata": {},
   "outputs": [
    {
     "data": {
      "text/plain": [
       "array([0.152456, 0.      , 0.      , 0.      , 0.709828, 0.709828,\n",
       "       0.709828, 0.      , 0.      , 0.      , 0.      , 0.      ,\n",
       "       0.709828, 0.      , 0.      , 0.      , 0.      , 0.      ,\n",
       "       0.      , 0.      , 0.      , 0.      , 0.      , 0.399652,\n",
       "       0.399652, 0.399652, 0.709828, 0.709828, 0.709828, 0.      ])"
      ]
     },
     "execution_count": 33,
     "metadata": {},
     "output_type": "execute_result"
    }
   ],
   "source": [
    "row_nan_pct "
   ]
  },
  {
   "cell_type": "code",
   "execution_count": 34,
   "metadata": {},
   "outputs": [
    {
     "data": {
      "text/plain": [
       "19"
      ]
     },
     "execution_count": 34,
     "metadata": {},
     "output_type": "execute_result"
    }
   ],
   "source": [
    "np.count_nonzero(row_nan_pct == 0)"
   ]
  },
  {
   "cell_type": "code",
   "execution_count": 35,
   "metadata": {},
   "outputs": [],
   "source": [
    "non_nan_cols = (row_nan_pct == 0)"
   ]
  },
  {
   "cell_type": "code",
   "execution_count": 36,
   "metadata": {},
   "outputs": [
    {
     "data": {
      "text/plain": [
       "array([False,  True,  True,  True, False, False, False,  True,  True,\n",
       "        True,  True,  True, False,  True,  True,  True,  True,  True,\n",
       "        True,  True,  True,  True,  True, False, False, False, False,\n",
       "       False, False,  True])"
      ]
     },
     "execution_count": 36,
     "metadata": {},
     "output_type": "execute_result"
    }
   ],
   "source": [
    "non_nan_cols"
   ]
  },
  {
   "cell_type": "code",
   "execution_count": 43,
   "metadata": {},
   "outputs": [],
   "source": [
    "tX_new = tX[:, non_nan_cols]"
   ]
  },
  {
   "cell_type": "code",
   "execution_count": 44,
   "metadata": {},
   "outputs": [
    {
     "data": {
      "text/plain": [
       "(250000, 19)"
      ]
     },
     "execution_count": 44,
     "metadata": {},
     "output_type": "execute_result"
    }
   ],
   "source": [
    "tX_new.shape"
   ]
  },
  {
   "cell_type": "code",
   "execution_count": 45,
   "metadata": {},
   "outputs": [],
   "source": [
    "from implementations import standardize_data, add_bias, encode_binary\n",
    "tX_new = standardize_data(tX_new)\n",
    "tX_new = add_bias(tX_new)\n",
    "y_new = encode_binary(y)"
   ]
  },
  {
   "cell_type": "code",
   "execution_count": 46,
   "metadata": {},
   "outputs": [
    {
     "data": {
      "text/plain": [
       "array([1., 0., 0., ..., 1., 0., 0.])"
      ]
     },
     "execution_count": 46,
     "metadata": {},
     "output_type": "execute_result"
    }
   ],
   "source": [
    "y_new"
   ]
  },
  {
   "cell_type": "code",
   "execution_count": 47,
   "metadata": {},
   "outputs": [
    {
     "data": {
      "text/plain": [
       "array([[ 1.        ,  0.06833197,  0.40768027, ...,  0.38684673,\n",
       "         1.04440205,  0.4125105 ],\n",
       "       [ 1.        ,  0.55250482,  0.54013641, ..., -0.35771893,\n",
       "         0.02130497, -0.27381996],\n",
       "       [ 1.        ,  3.19515553,  1.09655998, ...,  0.40013535,\n",
       "         0.02130497, -0.29396985],\n",
       "       ...,\n",
       "       [ 1.        ,  0.31931645, -0.13086367, ..., -0.08608887,\n",
       "         0.02130497, -0.31701723],\n",
       "       [ 1.        , -0.84532397, -0.30297338, ..., -0.76742886,\n",
       "        -1.00179211, -0.74543941],\n",
       "       [ 1.        ,  0.66533608, -0.25352276, ..., -0.87267059,\n",
       "        -1.00179211, -0.74543941]])"
      ]
     },
     "execution_count": 47,
     "metadata": {},
     "output_type": "execute_result"
    }
   ],
   "source": [
    "tX_new"
   ]
  },
  {
   "cell_type": "code",
   "execution_count": 51,
   "metadata": {},
   "outputs": [
    {
     "name": "stdout",
     "output_type": "stream",
     "text": [
      "Iteration 0/1000\n",
      "Accuracy = 55.552800000000005%\n",
      "Loss = 1.6905335303877598\n",
      "Iteration 10/1000\n",
      "Accuracy = 56.0924%\n",
      "Loss = 1.3608482968576747\n",
      "Iteration 20/1000\n",
      "Accuracy = 57.2288%\n",
      "Loss = 1.0880034400195586\n",
      "Iteration 30/1000\n",
      "Accuracy = 59.364799999999995%\n",
      "Loss = 0.8844737871232871\n",
      "Iteration 40/1000\n",
      "Accuracy = 62.3564%\n",
      "Loss = 0.7495099300532401\n",
      "Iteration 50/1000\n",
      "Accuracy = 65.61439999999999%\n",
      "Loss = 0.667997864325569\n",
      "Iteration 60/1000\n",
      "Accuracy = 68.2076%\n",
      "Loss = 0.6199651839982078\n",
      "Iteration 70/1000\n",
      "Accuracy = 69.9592%\n",
      "Loss = 0.5906211903264679\n",
      "Iteration 80/1000\n",
      "Accuracy = 71.09400000000001%\n",
      "Loss = 0.5718131012361627\n",
      "Iteration 90/1000\n",
      "Accuracy = 71.762%\n",
      "Loss = 0.5592919179572726\n",
      "Iteration 100/1000\n",
      "Accuracy = 72.2024%\n",
      "Loss = 0.5507034088087395\n",
      "Iteration 110/1000\n",
      "Accuracy = 72.52680000000001%\n",
      "Loss = 0.5446667085338248\n",
      "Iteration 120/1000\n",
      "Accuracy = 72.7524%\n",
      "Loss = 0.540326694761368\n",
      "Iteration 130/1000\n",
      "Accuracy = 72.8544%\n",
      "Loss = 0.5371372250914377\n",
      "Iteration 140/1000\n",
      "Accuracy = 72.9408%\n",
      "Loss = 0.5347418469545471\n",
      "Iteration 150/1000\n",
      "Accuracy = 73.0196%\n",
      "Loss = 0.5329035443120212\n",
      "Iteration 160/1000\n",
      "Accuracy = 73.084%\n",
      "Loss = 0.5314621927596735\n",
      "Iteration 170/1000\n",
      "Accuracy = 73.1532%\n",
      "Loss = 0.5303080505787184\n",
      "Iteration 180/1000\n",
      "Accuracy = 73.206%\n",
      "Loss = 0.5293648820180159\n",
      "Iteration 190/1000\n",
      "Accuracy = 73.2648%\n",
      "Loss = 0.5285790309986225\n",
      "Iteration 200/1000\n",
      "Accuracy = 73.28320000000001%\n",
      "Loss = 0.5279122480895303\n",
      "Iteration 210/1000\n",
      "Accuracy = 73.29480000000001%\n",
      "Loss = 0.5273369230098569\n",
      "Iteration 220/1000\n",
      "Accuracy = 73.3236%\n",
      "Loss = 0.5268328791909673\n",
      "Iteration 230/1000\n",
      "Accuracy = 73.334%\n",
      "Loss = 0.526385194439614\n",
      "Iteration 240/1000\n",
      "Accuracy = 73.3692%\n",
      "Loss = 0.52598270291732\n",
      "Iteration 250/1000\n",
      "Accuracy = 73.3916%\n",
      "Loss = 0.5256169542324595\n",
      "Iteration 260/1000\n",
      "Accuracy = 73.4136%\n",
      "Loss = 0.5252814823792038\n",
      "Iteration 270/1000\n",
      "Accuracy = 73.4384%\n",
      "Loss = 0.524971286838192\n",
      "Iteration 280/1000\n",
      "Accuracy = 73.454%\n",
      "Loss = 0.5246824604010069\n",
      "Iteration 290/1000\n",
      "Accuracy = 73.4896%\n",
      "Loss = 0.5244119194469817\n",
      "Iteration 300/1000\n",
      "Accuracy = 73.526%\n",
      "Loss = 0.5241572064281445\n",
      "Iteration 310/1000\n",
      "Accuracy = 73.5424%\n",
      "Loss = 0.5239163437128687\n",
      "Iteration 320/1000\n",
      "Accuracy = 73.564%\n",
      "Loss = 0.5236877243072916\n",
      "Iteration 330/1000\n",
      "Accuracy = 73.5732%\n",
      "Loss = 0.5234700293488452\n",
      "Iteration 340/1000\n",
      "Accuracy = 73.5848%\n",
      "Loss = 0.5232621653073956\n",
      "Iteration 350/1000\n",
      "Accuracy = 73.5912%\n",
      "Loss = 0.5230632159457453\n",
      "Iteration 360/1000\n",
      "Accuracy = 73.6%\n",
      "Loss = 0.5228724055319194\n",
      "Iteration 370/1000\n",
      "Accuracy = 73.6184%\n",
      "Loss = 0.522689070728975\n",
      "Iteration 380/1000\n",
      "Accuracy = 73.6376%\n",
      "Loss = 0.522512639163891\n",
      "Iteration 390/1000\n",
      "Accuracy = 73.6388%\n",
      "Loss = 0.5223426130484687\n",
      "Iteration 400/1000\n",
      "Accuracy = 73.6448%\n",
      "Loss = 0.5221785565219312\n",
      "Iteration 410/1000\n",
      "Accuracy = 73.6536%\n",
      "Loss = 0.52202008567525\n",
      "Iteration 420/1000\n",
      "Accuracy = 73.662%\n",
      "Loss = 0.5218668605021467\n",
      "Iteration 430/1000\n",
      "Accuracy = 73.6584%\n",
      "Loss = 0.5217185782688182\n",
      "Iteration 440/1000\n",
      "Accuracy = 73.6592%\n",
      "Loss = 0.521574967977496\n",
      "Iteration 450/1000\n",
      "Accuracy = 73.6804%\n",
      "Loss = 0.5214357857152013\n",
      "Iteration 460/1000\n",
      "Accuracy = 73.69200000000001%\n",
      "Loss = 0.5213008107435523\n",
      "Iteration 470/1000\n",
      "Accuracy = 73.70400000000001%\n",
      "Loss = 0.5211698422182567\n",
      "Iteration 480/1000\n",
      "Accuracy = 73.7052%\n",
      "Loss = 0.5210426964440367\n",
      "Iteration 490/1000\n",
      "Accuracy = 73.7096%\n",
      "Loss = 0.5209192045818198\n",
      "Iteration 500/1000\n",
      "Accuracy = 73.71799999999999%\n",
      "Loss = 0.5207992107345926\n",
      "Iteration 510/1000\n",
      "Accuracy = 73.7244%\n",
      "Loss = 0.5206825703476662\n",
      "Iteration 520/1000\n",
      "Accuracy = 73.7332%\n",
      "Loss = 0.5205691488683536\n",
      "Iteration 530/1000\n",
      "Accuracy = 73.7356%\n",
      "Loss = 0.520458820618782\n",
      "Iteration 540/1000\n",
      "Accuracy = 73.738%\n",
      "Loss = 0.5203514678434691\n",
      "Iteration 550/1000\n",
      "Accuracy = 73.74159999999999%\n",
      "Loss = 0.5202469799001901\n",
      "Iteration 560/1000\n",
      "Accuracy = 73.7424%\n",
      "Loss = 0.5201452525684961\n",
      "Iteration 570/1000\n",
      "Accuracy = 73.75319999999999%\n",
      "Loss = 0.5200461874551039\n",
      "Iteration 580/1000\n",
      "Accuracy = 73.75880000000001%\n",
      "Loss = 0.5199496914793453\n",
      "Iteration 590/1000\n",
      "Accuracy = 73.77120000000001%\n",
      "Loss = 0.5198556764250821\n",
      "Iteration 600/1000\n",
      "Accuracy = 73.768%\n",
      "Loss = 0.5197640585480844\n",
      "Iteration 610/1000\n",
      "Accuracy = 73.7652%\n",
      "Loss = 0.5196747582299422\n",
      "Iteration 620/1000\n",
      "Accuracy = 73.774%\n",
      "Loss = 0.519587699671252\n",
      "Iteration 630/1000\n",
      "Accuracy = 73.7756%\n",
      "Loss = 0.5195028106181392\n",
      "Iteration 640/1000\n",
      "Accuracy = 73.7756%\n",
      "Loss = 0.5194200221172562\n",
      "Iteration 650/1000\n",
      "Accuracy = 73.782%\n",
      "Loss = 0.519339268295241\n",
      "Iteration 660/1000\n",
      "Accuracy = 73.7844%\n",
      "Loss = 0.5192604861593202\n",
      "Iteration 670/1000\n",
      "Accuracy = 73.7876%\n",
      "Loss = 0.5191836154162863\n",
      "Iteration 680/1000\n",
      "Accuracy = 73.7936%\n",
      "Loss = 0.5191085983075441\n",
      "Iteration 690/1000\n",
      "Accuracy = 73.79679999999999%\n",
      "Loss = 0.5190353794582703\n",
      "Iteration 700/1000\n",
      "Accuracy = 73.7992%\n",
      "Loss = 0.5189639057390487\n",
      "Iteration 710/1000\n",
      "Accuracy = 73.8008%\n",
      "Loss = 0.5188941261385736\n",
      "Iteration 720/1000\n",
      "Accuracy = 73.8008%\n",
      "Loss = 0.5188259916462282\n",
      "Iteration 730/1000\n",
      "Accuracy = 73.80600000000001%\n",
      "Loss = 0.5187594551435051\n",
      "Iteration 740/1000\n",
      "Accuracy = 73.8076%\n",
      "Loss = 0.5186944713033802\n",
      "Iteration 750/1000\n",
      "Accuracy = 73.8056%\n",
      "Loss = 0.5186309964968671\n",
      "Iteration 760/1000\n",
      "Accuracy = 73.8044%\n",
      "Loss = 0.518568988706073\n",
      "Iteration 770/1000\n",
      "Accuracy = 73.802%\n",
      "Loss = 0.51850840744317\n",
      "Iteration 780/1000\n",
      "Accuracy = 73.8116%\n",
      "Loss = 0.5184492136747517\n",
      "Iteration 790/1000\n",
      "Accuracy = 73.8128%\n",
      "Loss = 0.5183913697511189\n",
      "Iteration 800/1000\n",
      "Accuracy = 73.8164%\n",
      "Loss = 0.5183348393400787\n",
      "Iteration 810/1000\n",
      "Accuracy = 73.8092%\n",
      "Loss = 0.5182795873648948\n",
      "Iteration 820/1000\n",
      "Accuracy = 73.81400000000001%\n",
      "Loss = 0.5182255799460531\n",
      "Iteration 830/1000\n",
      "Accuracy = 73.8164%\n",
      "Loss = 0.5181727843465525\n",
      "Iteration 840/1000\n",
      "Accuracy = 73.8184%\n",
      "Loss = 0.5181211689204519\n",
      "Iteration 850/1000\n",
      "Accuracy = 73.818%\n",
      "Loss = 0.5180707030644324\n",
      "Iteration 860/1000\n",
      "Accuracy = 73.8192%\n",
      "Loss = 0.5180213571721521\n",
      "Iteration 870/1000\n",
      "Accuracy = 73.8212%\n",
      "Loss = 0.5179731025911992\n",
      "Iteration 880/1000\n",
      "Accuracy = 73.8244%\n",
      "Loss = 0.5179259115824576\n",
      "Iteration 890/1000\n",
      "Accuracy = 73.8288%\n",
      "Loss = 0.5178797572817175\n",
      "Iteration 900/1000\n",
      "Accuracy = 73.834%\n",
      "Loss = 0.5178346136633832\n",
      "Iteration 910/1000\n",
      "Accuracy = 73.8392%\n",
      "Loss = 0.5177904555061319\n",
      "Iteration 920/1000\n",
      "Accuracy = 73.84039999999999%\n",
      "Loss = 0.5177472583603991\n",
      "Iteration 930/1000\n",
      "Accuracy = 73.8432%\n",
      "Loss = 0.5177049985175699\n",
      "Iteration 940/1000\n",
      "Accuracy = 73.84479999999999%\n",
      "Loss = 0.5176636529807648\n",
      "Iteration 950/1000\n",
      "Accuracy = 73.84479999999999%\n",
      "Loss = 0.5176231994371239\n",
      "Iteration 960/1000\n",
      "Accuracy = 73.8468%\n",
      "Loss = 0.5175836162314892\n",
      "Iteration 970/1000\n",
      "Accuracy = 73.84960000000001%\n",
      "Loss = 0.5175448823414026\n",
      "Iteration 980/1000\n",
      "Accuracy = 73.8508%\n",
      "Loss = 0.517506977353339\n",
      "Iteration 990/1000\n",
      "Accuracy = 73.85119999999999%\n",
      "Loss = 0.5174698814400948\n",
      "Best Accuracy : 73.8556% reached at epoch 994\n"
     ]
    },
    {
     "data": {
      "image/png": "[encoded data removed]",
      "text/plain": [
       "<Figure size 432x288 with 1 Axes>"
      ]
     },
     "metadata": {
      "needs_background": "light"
     },
     "output_type": "display_data"
    }
   ],
   "source": [
    "from implementations import logistic_regression\n",
    "weights, loss = logistic_regression(y_new, tX_new, max_iters=1000)"
   ]
  },
  {
   "cell_type": "code",
   "execution_count": 52,
   "metadata": {},
   "outputs": [],
   "source": [
    "corrs = []\n",
    "for i in range(tX.shape[1]):\n",
    "    corrs.append(np.corrcoef(tX[:, i], y)[0, 1])"
   ]
  },
  {
   "cell_type": "code",
   "execution_count": 53,
   "metadata": {},
   "outputs": [
    {
     "data": {
      "text/plain": [
       "[-0.3514279558616751,\n",
       " -0.19539789618287817,\n",
       " -0.031947586805348205,\n",
       " -0.015287426687781413,\n",
       " -0.014055273784852506,\n",
       " -0.0044025386863883985,\n",
       " -0.0009432510582117487,\n",
       " 0.0015162353770597236,\n",
       " 0.0041254474115248515,\n",
       " 0.0074753421885902374,\n",
       " 0.012245481285482902,\n",
       " 0.02246575151078583,\n",
       " 0.13354912308169134,\n",
       " 0.13429572666925302,\n",
       " 0.1355202615226846,\n",
       " 0.14055440046509557,\n",
       " 0.1407143669504368,\n",
       " 0.14125568650533774,\n",
       " 0.1412649137760153,\n",
       " 0.14134598859646297,\n",
       " 0.1416459925656641,\n",
       " 0.15046803779292678,\n",
       " 0.15046926004977906,\n",
       " 0.1532359324758135,\n",
       " 0.15760414567634926,\n",
       " 0.19176608807477077,\n",
       " 0.19252632856874796,\n",
       " 0.23523797587836723,\n",
       " 0.23914905789154473,\n",
       " 0.2717518770516493]"
      ]
     },
     "execution_count": 53,
     "metadata": {},
     "output_type": "execute_result"
    }
   ],
   "source": [
    "sorted(corrs)"
   ]
  },
  {
   "cell_type": "code",
   "execution_count": null,
   "metadata": {},
   "outputs": [],
   "source": []
  }
 ],
 "metadata": {
  "interpreter": {
   "hash": "34e9dc8c9cd4c2e3341692c7f5472da17e27c062a0f2ac63648b60e63867ef4a"
  },
  "kernelspec": {
   "display_name": "Python 3.9.7 64-bit ('ml': conda)",
   "name": "python3"
  },
  "language_info": {
   "codemirror_mode": {
    "name": "ipython",
    "version": 3
   },
   "file_extension": ".py",
   "mimetype": "text/x-python",
   "name": "python",
   "nbconvert_exporter": "python",
   "pygments_lexer": "ipython3",
   "version": "3.9.7"
  },
  "orig_nbformat": 4
 },
 "nbformat": 4,
 "nbformat_minor": 2
}
