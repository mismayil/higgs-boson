{
 "cells": [
  {
   "cell_type": "code",
   "execution_count": 2,
   "metadata": {},
   "outputs": [],
   "source": [
    "# Useful starting lines\n",
    "%matplotlib inline\n",
    "import numpy as np\n",
    "import matplotlib.pyplot as plt\n",
    "%load_ext autoreload\n",
    "%autoreload 2"
   ]
  },
  {
   "cell_type": "code",
   "execution_count": 3,
   "metadata": {},
   "outputs": [],
   "source": [
    "from proj1_helpers import *\n",
    "DATA_TRAIN_PATH = 'data/train.csv' # TODO: download train data and supply path here \n",
    "y, tX, ids = load_csv_data(DATA_TRAIN_PATH)"
   ]
  },
  {
   "cell_type": "code",
   "execution_count": 4,
   "metadata": {},
   "outputs": [
    {
     "data": {
      "text/plain": [
       "array([[ 138.47 ,   51.655,   97.827, ...,    1.24 ,   -2.475,  113.497],\n",
       "       [ 160.937,   68.768,  103.235, ..., -999.   , -999.   ,   46.226],\n",
       "       [-999.   ,  162.172,  125.953, ..., -999.   , -999.   ,   44.251],\n",
       "       ...,\n",
       "       [ 105.457,   60.526,   75.839, ..., -999.   , -999.   ,   41.992],\n",
       "       [  94.951,   19.362,   68.812, ..., -999.   , -999.   ,    0.   ],\n",
       "       [-999.   ,   72.756,   70.831, ..., -999.   , -999.   ,    0.   ]])"
      ]
     },
     "execution_count": 4,
     "metadata": {},
     "output_type": "execute_result"
    }
   ],
   "source": [
    "tX"
   ]
  },
  {
   "cell_type": "code",
   "execution_count": 5,
   "metadata": {},
   "outputs": [
    {
     "data": {
      "text/plain": [
       "(250000, 30)"
      ]
     },
     "execution_count": 5,
     "metadata": {},
     "output_type": "execute_result"
    }
   ],
   "source": [
    "tX.shape"
   ]
  },
  {
   "cell_type": "code",
   "execution_count": 6,
   "metadata": {},
   "outputs": [
    {
     "name": "stdout",
     "output_type": "stream",
     "text": [
      "[dtype('float64'), dtype('float64'), dtype('float64'), dtype('float64'), dtype('float64'), dtype('float64'), dtype('float64'), dtype('float64'), dtype('float64'), dtype('float64'), dtype('float64'), dtype('float64'), dtype('float64'), dtype('float64'), dtype('float64'), dtype('float64'), dtype('float64'), dtype('float64'), dtype('float64'), dtype('float64'), dtype('float64'), dtype('float64'), dtype('float64'), dtype('float64'), dtype('float64'), dtype('float64'), dtype('float64'), dtype('float64'), dtype('float64'), dtype('float64')]\n"
     ]
    }
   ],
   "source": [
    "print([tX[:, col].dtype for col in range(30)])"
   ]
  },
  {
   "cell_type": "code",
   "execution_count": 7,
   "metadata": {},
   "outputs": [
    {
     "data": {
      "text/plain": [
       "array([ 38114,      0,      0,      0, 177457, 177457, 177457,      0,\n",
       "            0,      0,      0,      0, 177457,      0,      0,      0,\n",
       "            0,      0,      0,      0,      0,      0,      0,  99913,\n",
       "        99913,  99913, 177457, 177457, 177457,      0])"
      ]
     },
     "execution_count": 7,
     "metadata": {},
     "output_type": "execute_result"
    }
   ],
   "source": [
    "np.count_nonzero(tX == -999, axis=0)"
   ]
  },
  {
   "cell_type": "code",
   "execution_count": 8,
   "metadata": {},
   "outputs": [],
   "source": [
    "row_nan_pct = np.count_nonzero(tX == -999, axis=0) / len(tX)"
   ]
  },
  {
   "cell_type": "code",
   "execution_count": 9,
   "metadata": {},
   "outputs": [
    {
     "data": {
      "text/plain": [
       "array([0.152456, 0.      , 0.      , 0.      , 0.709828, 0.709828,\n",
       "       0.709828, 0.      , 0.      , 0.      , 0.      , 0.      ,\n",
       "       0.709828, 0.      , 0.      , 0.      , 0.      , 0.      ,\n",
       "       0.      , 0.      , 0.      , 0.      , 0.      , 0.399652,\n",
       "       0.399652, 0.399652, 0.709828, 0.709828, 0.709828, 0.      ])"
      ]
     },
     "execution_count": 9,
     "metadata": {},
     "output_type": "execute_result"
    }
   ],
   "source": [
    "row_nan_pct "
   ]
  },
  {
   "cell_type": "code",
   "execution_count": 10,
   "metadata": {},
   "outputs": [
    {
     "data": {
      "text/plain": [
       "19"
      ]
     },
     "execution_count": 10,
     "metadata": {},
     "output_type": "execute_result"
    }
   ],
   "source": [
    "np.count_nonzero(row_nan_pct == 0)"
   ]
  },
  {
   "cell_type": "code",
   "execution_count": 11,
   "metadata": {},
   "outputs": [],
   "source": [
    "non_nan_cols = (row_nan_pct == 0)"
   ]
  },
  {
   "cell_type": "code",
   "execution_count": 12,
   "metadata": {},
   "outputs": [
    {
     "data": {
      "text/plain": [
       "array([False,  True,  True,  True, False, False, False,  True,  True,\n",
       "        True,  True,  True, False,  True,  True,  True,  True,  True,\n",
       "        True,  True,  True,  True,  True, False, False, False, False,\n",
       "       False, False,  True])"
      ]
     },
     "execution_count": 12,
     "metadata": {},
     "output_type": "execute_result"
    }
   ],
   "source": [
    "non_nan_cols"
   ]
  },
  {
   "cell_type": "code",
   "execution_count": 27,
   "metadata": {},
   "outputs": [],
   "source": [
    "tX_new = tX[:, non_nan_cols]"
   ]
  },
  {
   "cell_type": "code",
   "execution_count": 28,
   "metadata": {},
   "outputs": [
    {
     "data": {
      "text/plain": [
       "(250000, 19)"
      ]
     },
     "execution_count": 28,
     "metadata": {},
     "output_type": "execute_result"
    }
   ],
   "source": [
    "tX_new.shape"
   ]
  },
  {
   "cell_type": "code",
   "execution_count": 29,
   "metadata": {},
   "outputs": [],
   "source": [
    "from implementations import standardize_data, add_bias, encode_binary\n",
    "tX_new = standardize_data(tX_new)\n",
    "tX_new = add_bias(tX_new)\n",
    "y_new = encode_binary(y)\n",
    "y_new = y_new.reshape((-1, 1))"
   ]
  },
  {
   "cell_type": "code",
   "execution_count": 30,
   "metadata": {},
   "outputs": [
    {
     "data": {
      "text/plain": [
       "array([[1.],\n",
       "       [0.],\n",
       "       [0.],\n",
       "       ...,\n",
       "       [1.],\n",
       "       [0.],\n",
       "       [0.]])"
      ]
     },
     "execution_count": 30,
     "metadata": {},
     "output_type": "execute_result"
    }
   ],
   "source": [
    "y_new"
   ]
  },
  {
   "cell_type": "code",
   "execution_count": 31,
   "metadata": {},
   "outputs": [
    {
     "data": {
      "text/plain": [
       "array([[ 1.        ,  0.06833197,  0.40768027, ...,  0.38684673,\n",
       "         1.04440205,  0.4125105 ],\n",
       "       [ 1.        ,  0.55250482,  0.54013641, ..., -0.35771893,\n",
       "         0.02130497, -0.27381996],\n",
       "       [ 1.        ,  3.19515553,  1.09655998, ...,  0.40013535,\n",
       "         0.02130497, -0.29396985],\n",
       "       ...,\n",
       "       [ 1.        ,  0.31931645, -0.13086367, ..., -0.08608887,\n",
       "         0.02130497, -0.31701723],\n",
       "       [ 1.        , -0.84532397, -0.30297338, ..., -0.76742886,\n",
       "        -1.00179211, -0.74543941],\n",
       "       [ 1.        ,  0.66533608, -0.25352276, ..., -0.87267059,\n",
       "        -1.00179211, -0.74543941]])"
      ]
     },
     "execution_count": 31,
     "metadata": {},
     "output_type": "execute_result"
    }
   ],
   "source": [
    "tX_new"
   ]
  },
  {
   "cell_type": "code",
   "execution_count": 71,
   "metadata": {},
   "outputs": [
    {
     "name": "stdout",
     "output_type": "stream",
     "text": [
      "Best Accuracy : 71.9705% reached at epoch 99\n",
      "Best Accuracy : 72.78999999999999% reached at epoch 99\n",
      "Best Accuracy : 70.928% reached at epoch 99\n",
      "Best Accuracy : 71.0095% reached at epoch 99\n",
      "Best Accuracy : 71.3965% reached at epoch 99\n",
      "Best Accuracy : 71.75200000000001% reached at epoch 99\n",
      "Best Accuracy : 72.49849999999999% reached at epoch 99\n",
      "Best Accuracy : 70.9305% reached at epoch 99\n",
      "Best Accuracy : 70.49% reached at epoch 99\n",
      "Best Accuracy : 70.59% reached at epoch 99\n",
      "Best Accuracy : 71.30250000000001% reached at epoch 99\n",
      "Best Accuracy : 70.9945% reached at epoch 99\n",
      "Best Accuracy : 70.1145% reached at epoch 99\n",
      "Best Accuracy : 71.6985% reached at epoch 99\n",
      "Best Accuracy : 72.30799999999999% reached at epoch 99\n",
      "Best Accuracy : 71.41300000000001% reached at epoch 97\n",
      "Best Accuracy : 71.17750000000001% reached at epoch 99\n",
      "Best Accuracy : 71.2445% reached at epoch 99\n",
      "Best Accuracy : 71.63199999999999% reached at epoch 73\n",
      "Best Accuracy : 71.37299999999999% reached at epoch 99\n",
      "Best Accuracy : 69.4045% reached at epoch 55\n",
      "Best Accuracy : 69.42099999999999% reached at epoch 42\n",
      "Best Accuracy : 69.3205% reached at epoch 35\n",
      "Best Accuracy : 69.3665% reached at epoch 25\n",
      "Best Accuracy : 69.4395% reached at epoch 27\n",
      "Best Accuracy : 69.5735% reached at epoch 99\n",
      "Best Accuracy : 72.2165% reached at epoch 99\n",
      "Best Accuracy : 71.2615% reached at epoch 99\n",
      "Best Accuracy : 71.989% reached at epoch 99\n",
      "Best Accuracy : 71.9665% reached at epoch 99\n",
      "Best Accuracy : 71.67999999999999% reached at epoch 99\n",
      "Best Accuracy : 72.2655% reached at epoch 99\n",
      "Best Accuracy : 70.9505% reached at epoch 99\n",
      "Best Accuracy : 71.573% reached at epoch 99\n",
      "Best Accuracy : 70.831% reached at epoch 99\n",
      "Best Accuracy : 71.31% reached at epoch 99\n",
      "Best Accuracy : 72.07900000000001% reached at epoch 99\n",
      "Best Accuracy : 71.47200000000001% reached at epoch 99\n",
      "Best Accuracy : 71.146% reached at epoch 99\n",
      "Best Accuracy : 71.519% reached at epoch 99\n",
      "Best Accuracy : 71.3275% reached at epoch 99\n",
      "Best Accuracy : 71.49950000000001% reached at epoch 99\n",
      "Best Accuracy : 71.463% reached at epoch 90\n",
      "Best Accuracy : 71.056% reached at epoch 99\n",
      "Best Accuracy : 71.4115% reached at epoch 80\n",
      "Best Accuracy : 69.4055% reached at epoch 33\n",
      "Best Accuracy : 69.427% reached at epoch 26\n",
      "Best Accuracy : 69.3165% reached at epoch 35\n",
      "Best Accuracy : 69.372% reached at epoch 23\n",
      "Best Accuracy : 69.4285% reached at epoch 31\n",
      "Best Accuracy : 74.6305% reached at epoch 99\n",
      "Best Accuracy : 75.14150000000001% reached at epoch 99\n",
      "Best Accuracy : 76.2305% reached at epoch 99\n",
      "Best Accuracy : 75.749% reached at epoch 99\n",
      "Best Accuracy : 74.20649999999999% reached at epoch 99\n",
      "Best Accuracy : 75.702% reached at epoch 99\n",
      "Best Accuracy : 75.76650000000001% reached at epoch 99\n",
      "Best Accuracy : 75.457% reached at epoch 99\n",
      "Best Accuracy : 74.8545% reached at epoch 99\n",
      "Best Accuracy : 76.15899999999999% reached at epoch 99\n",
      "Best Accuracy : 76.211% reached at epoch 99\n",
      "Best Accuracy : 76.971% reached at epoch 99\n",
      "Best Accuracy : 75.91449999999999% reached at epoch 99\n",
      "Best Accuracy : 75.6985% reached at epoch 99\n",
      "Best Accuracy : 75.3225% reached at epoch 99\n",
      "Best Accuracy : 75.1095% reached at epoch 90\n",
      "Best Accuracy : 75.3595% reached at epoch 73\n",
      "Best Accuracy : 75.113% reached at epoch 77\n",
      "Best Accuracy : 74.86% reached at epoch 99\n",
      "Best Accuracy : 75.0235% reached at epoch 87\n",
      "Best Accuracy : 69.396% reached at epoch 11\n",
      "Best Accuracy : 70.143% reached at epoch 11\n",
      "Best Accuracy : 69.3245% reached at epoch 11\n",
      "Best Accuracy : 68.5435% reached at epoch 10\n",
      "Best Accuracy : 69.6255% reached at epoch 11\n",
      "Best Accuracy : 74.665% reached at epoch 98\n",
      "Best Accuracy : 74.70649999999999% reached at epoch 99\n",
      "Best Accuracy : 75.196% reached at epoch 96\n",
      "Best Accuracy : 75.30449999999999% reached at epoch 96\n",
      "Best Accuracy : 75.24300000000001% reached at epoch 99\n",
      "Best Accuracy : 74.761% reached at epoch 95\n",
      "Best Accuracy : 74.1125% reached at epoch 96\n",
      "Best Accuracy : 75.55% reached at epoch 97\n",
      "Best Accuracy : 74.27850000000001% reached at epoch 97\n",
      "Best Accuracy : 75.0565% reached at epoch 97\n",
      "Best Accuracy : 75.056% reached at epoch 98\n",
      "Best Accuracy : 74.588% reached at epoch 98\n",
      "Best Accuracy : 75.227% reached at epoch 98\n",
      "Best Accuracy : 75.276% reached at epoch 96\n",
      "Best Accuracy : 75.087% reached at epoch 97\n",
      "Best Accuracy : 74.289% reached at epoch 97\n",
      "Best Accuracy : 74.648% reached at epoch 84\n",
      "Best Accuracy : 74.083% reached at epoch 60\n",
      "Best Accuracy : 74.46199999999999% reached at epoch 88\n",
      "Best Accuracy : 74.3565% reached at epoch 99\n",
      "Best Accuracy : 70.609% reached at epoch 31\n",
      "Best Accuracy : 70.64049999999999% reached at epoch 21\n",
      "Best Accuracy : 71.2295% reached at epoch 17\n",
      "Best Accuracy : 70.7075% reached at epoch 26\n",
      "Best Accuracy : 69.181% reached at epoch 15\n",
      "Best Accuracy : 67.539% reached at epoch 98\n",
      "Best Accuracy : 66.8715% reached at epoch 98\n",
      "Best Accuracy : 73.51299999999999% reached at epoch 98\n",
      "Best Accuracy : 67.403% reached at epoch 98\n",
      "Best Accuracy : 66.61399999999999% reached at epoch 99\n",
      "Best Accuracy : 67.4225% reached at epoch 98\n",
      "Best Accuracy : 67.0965% reached at epoch 98\n",
      "Best Accuracy : 72.98400000000001% reached at epoch 98\n",
      "Best Accuracy : 67.5185% reached at epoch 99\n",
      "Best Accuracy : 66.67699999999999% reached at epoch 97\n",
      "Best Accuracy : 69.2375% reached at epoch 99\n",
      "Best Accuracy : 68.70349999999999% reached at epoch 99\n",
      "Best Accuracy : 74.7755% reached at epoch 88\n",
      "Best Accuracy : 69.267% reached at epoch 98\n",
      "Best Accuracy : 68.146% reached at epoch 98\n",
      "Best Accuracy : 71.6875% reached at epoch 65\n",
      "Best Accuracy : 72.9135% reached at epoch 80\n",
      "Best Accuracy : 74.02250000000001% reached at epoch 85\n",
      "Best Accuracy : 71.883% reached at epoch 76\n",
      "Best Accuracy : 71.02199999999999% reached at epoch 68\n",
      "Best Accuracy : 69.27799999999999% reached at epoch 16\n",
      "Best Accuracy : 68.00500000000001% reached at epoch 16\n",
      "Best Accuracy : 70.979% reached at epoch 20\n",
      "Best Accuracy : 69.193% reached at epoch 64\n",
      "Best Accuracy : 71.32% reached at epoch 97\n"
     ]
    }
   ],
   "source": [
    "from implementations import logistic_regression_cv\n",
    "weights, loss, lambda_, degree, accuracy, f1 = logistic_regression_cv(y_new, tX_new, verbose=False)"
   ]
  },
  {
   "cell_type": "code",
   "execution_count": 72,
   "metadata": {},
   "outputs": [
    {
     "data": {
      "text/plain": [
       "(array([[ 0.16329277],\n",
       "        [-0.21104522],\n",
       "        [ 0.28567849],\n",
       "        [ 0.22470116],\n",
       "        [ 0.71394256],\n",
       "        [-0.07669442],\n",
       "        [-0.06627629],\n",
       "        [-0.2318925 ],\n",
       "        [ 0.51841159],\n",
       "        [ 0.72452699],\n",
       "        [ 0.06499176],\n",
       "        [ 0.07855991],\n",
       "        [ 0.34549131],\n",
       "        [ 0.09909849],\n",
       "        [ 0.03322264],\n",
       "        [ 0.06765302],\n",
       "        [ 0.05585609],\n",
       "        [-0.20235065],\n",
       "        [ 0.22499467],\n",
       "        [ 0.24488963],\n",
       "        [-0.25501935],\n",
       "        [-0.00732738],\n",
       "        [-0.6583855 ],\n",
       "        [ 0.04588794],\n",
       "        [-0.13872242],\n",
       "        [ 0.02810542],\n",
       "        [-0.23118199],\n",
       "        [-0.03120961],\n",
       "        [ 0.083453  ],\n",
       "        [-0.04204543],\n",
       "        [-0.13182436],\n",
       "        [-0.13157164],\n",
       "        [ 0.04692292],\n",
       "        [-0.08998494],\n",
       "        [-0.05071935],\n",
       "        [ 0.040988  ],\n",
       "        [ 0.15204274],\n",
       "        [ 0.09663278],\n",
       "        [-0.10903318],\n",
       "        [ 0.0087319 ]]),\n",
       " 0.4920579338000885,\n",
       " 0.01,\n",
       " 2,\n",
       " 76.0068,\n",
       " 0.7001770317208813)"
      ]
     },
     "execution_count": 72,
     "metadata": {},
     "output_type": "execute_result"
    }
   ],
   "source": [
    "weights, loss, lambda_, degree, accuracy, f1"
   ]
  },
  {
   "cell_type": "code",
   "execution_count": 73,
   "metadata": {},
   "outputs": [],
   "source": [
    "DATA_TEST_PATH = 'data/test.csv' # TODO: download train data and supply path here \n",
    "_, tX_test, ids_test = load_csv_data(DATA_TEST_PATH)"
   ]
  },
  {
   "cell_type": "code",
   "execution_count": 74,
   "metadata": {},
   "outputs": [],
   "source": [
    "tX_test = tX_test[:, non_nan_cols]\n",
    "tX_test = standardize_data(tX_test)\n",
    "tX_test = add_bias(tX_test)"
   ]
  },
  {
   "cell_type": "code",
   "execution_count": 75,
   "metadata": {},
   "outputs": [
    {
     "data": {
      "text/plain": [
       "array([[ 1.        ,  0.85695592, -1.41340956, ..., -0.87748396,\n",
       "        -1.00087589, -0.74405712],\n",
       "       [ 1.        ,  0.51511285,  0.16866785, ..., -0.26550003,\n",
       "         0.02016428, -0.26091718],\n",
       "       [ 1.        ,  0.19686173,  0.37643086, ..., -0.77548795,\n",
       "        -1.00087589, -0.74405712],\n",
       "       ...,\n",
       "       [ 1.        , -1.1138051 , -0.39465676, ..., -0.16785199,\n",
       "        -1.00087589, -0.74405712],\n",
       "       [ 1.        , -0.82649192, -0.35035672, ...,  0.02053619,\n",
       "         0.02016428, -0.4306331 ],\n",
       "       [ 1.        ,  0.87164791, -0.08655773, ..., -0.88675489,\n",
       "        -1.00087589, -0.74405712]])"
      ]
     },
     "execution_count": 75,
     "metadata": {},
     "output_type": "execute_result"
    }
   ],
   "source": [
    "tX_test"
   ]
  },
  {
   "cell_type": "code",
   "execution_count": 66,
   "metadata": {},
   "outputs": [],
   "source": [
    "from implementations import build_poly\n",
    "tX_test = build_poly(tX_test, degree)"
   ]
  },
  {
   "cell_type": "code",
   "execution_count": 67,
   "metadata": {},
   "outputs": [
    {
     "data": {
      "text/plain": [
       "(568238, 60)"
      ]
     },
     "execution_count": 67,
     "metadata": {},
     "output_type": "execute_result"
    }
   ],
   "source": [
    "tX_test.shape"
   ]
  },
  {
   "cell_type": "code",
   "execution_count": 68,
   "metadata": {},
   "outputs": [],
   "source": [
    "from datetime import datetime\n",
    "from implementations import predict\n",
    "method = 'logistic_regression'\n",
    "time = datetime.now().strftime('%Y%m%dH%H%M%S')\n",
    "OUTPUT_PATH = f'submissions/submission_{method}_{time}' # TODO: fill in desired name of output file for submission\n",
    "y_pred = predict(weights, tX_test)\n",
    "y_pred[np.where(y_pred == 0)] = -1\n",
    "create_csv_submission(ids_test, y_pred, OUTPUT_PATH)"
   ]
  },
  {
   "cell_type": "code",
   "execution_count": 52,
   "metadata": {},
   "outputs": [],
   "source": [
    "corrs = []\n",
    "for i in range(tX.shape[1]):\n",
    "    corrs.append(np.corrcoef(tX[:, i], y)[0, 1])"
   ]
  },
  {
   "cell_type": "code",
   "execution_count": 53,
   "metadata": {},
   "outputs": [
    {
     "data": {
      "text/plain": [
       "[-0.3514279558616751,\n",
       " -0.19539789618287817,\n",
       " -0.031947586805348205,\n",
       " -0.015287426687781413,\n",
       " -0.014055273784852506,\n",
       " -0.0044025386863883985,\n",
       " -0.0009432510582117487,\n",
       " 0.0015162353770597236,\n",
       " 0.0041254474115248515,\n",
       " 0.0074753421885902374,\n",
       " 0.012245481285482902,\n",
       " 0.02246575151078583,\n",
       " 0.13354912308169134,\n",
       " 0.13429572666925302,\n",
       " 0.1355202615226846,\n",
       " 0.14055440046509557,\n",
       " 0.1407143669504368,\n",
       " 0.14125568650533774,\n",
       " 0.1412649137760153,\n",
       " 0.14134598859646297,\n",
       " 0.1416459925656641,\n",
       " 0.15046803779292678,\n",
       " 0.15046926004977906,\n",
       " 0.1532359324758135,\n",
       " 0.15760414567634926,\n",
       " 0.19176608807477077,\n",
       " 0.19252632856874796,\n",
       " 0.23523797587836723,\n",
       " 0.23914905789154473,\n",
       " 0.2717518770516493]"
      ]
     },
     "execution_count": 53,
     "metadata": {},
     "output_type": "execute_result"
    }
   ],
   "source": [
    "sorted(corrs)"
   ]
  },
  {
   "cell_type": "code",
   "execution_count": null,
   "metadata": {},
   "outputs": [],
   "source": []
  }
 ],
 "metadata": {
  "interpreter": {
   "hash": "34e9dc8c9cd4c2e3341692c7f5472da17e27c062a0f2ac63648b60e63867ef4a"
  },
  "kernelspec": {
   "display_name": "Python 3.9.7 64-bit ('ml': conda)",
   "name": "python3"
  },
  "language_info": {
   "codemirror_mode": {
    "name": "ipython",
    "version": 3
   },
   "file_extension": ".py",
   "mimetype": "text/x-python",
   "name": "python",
   "nbconvert_exporter": "python",
   "pygments_lexer": "ipython3",
   "version": "3.9.7"
  },
  "orig_nbformat": 4
 },
 "nbformat": 4,
 "nbformat_minor": 2
}
