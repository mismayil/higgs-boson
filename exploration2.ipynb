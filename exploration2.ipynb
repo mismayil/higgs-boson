{
 "cells": [
  {
   "cell_type": "code",
   "execution_count": null,
   "metadata": {},
   "outputs": [],
   "source": [
    "# Useful starting lines\n",
    "%matplotlib inline\n",
    "import numpy as np\n",
    "import matplotlib.pyplot as plt\n",
    "%load_ext autoreload\n",
    "%autoreload 2"
   ]
  },
  {
   "cell_type": "code",
   "execution_count": null,
   "metadata": {},
   "outputs": [],
   "source": [
    "from implementations import read_header\n",
    "features = read_header(DATA_TRAIN_PATH)"
   ]
  },
  {
   "cell_type": "code",
   "execution_count": null,
   "metadata": {},
   "outputs": [],
   "source": [
    "positive_cols = [1, 2, 3, 8, 9, 10, 13, 16, 19, 21, 29]"
   ]
  },
  {
   "cell_type": "code",
   "execution_count": null,
   "metadata": {},
   "outputs": [],
   "source": [
    "np.log(X_train[positive_cols])"
   ]
  },
  {
   "cell_type": "code",
   "execution_count": null,
   "metadata": {},
   "outputs": [],
   "source": [
    "fig, axs = plt.subplots(10, 3, figsize=(16, 50))\n",
    "\n",
    "for i in range(X_train.shape[1]):\n",
    "    ax = axs[i//3, i%3]\n",
    "    ax.hist(X_train[:, i])\n",
    "    ax.set_yscale('log')\n",
    "    ax.set_title(features[i])\n",
    "\n",
    "plt.show()"
   ]
  },
  {
   "cell_type": "code",
   "execution_count": null,
   "metadata": {},
   "outputs": [],
   "source": [
    "derived_cols = list(range(13))\n",
    "raw_cols = list(range(13, 30))"
   ]
  },
  {
   "cell_type": "code",
   "execution_count": null,
   "metadata": {},
   "outputs": [],
   "source": [
    "import seaborn as sns\n",
    "import pandas as pd\n",
    "int_cols = [0, 1, 2, 5, 7, 9, 10, 11]\n",
    "sns.pairplot(pd.DataFrame(np.hstack([X_train[:, int_cols], y_train.reshape((-1, 1))]), columns=list(np.array(features).take(int_cols))+['Label']), hue='Label')"
   ]
  },
  {
   "cell_type": "code",
   "execution_count": null,
   "metadata": {},
   "outputs": [],
   "source": [
    "fig, axs = plt.subplots(17, 2, figsize=(16, 50))\n",
    "\n",
    "for i in range(tX_train.shape[1]):\n",
    "    ax = axs[i//2, i%2]\n",
    "    ax.hist(tX_train[:, i])\n",
    "    ax.set_yscale('log')\n",
    "    # ax.set_title(features[i])\n",
    "\n",
    "plt.show()"
   ]
  },
  {
   "cell_type": "code",
   "execution_count": null,
   "metadata": {},
   "outputs": [],
   "source": [
    "skewed_cols = [1,2,3,6,7,9,12,17,19,20,21]\n",
    "binned_cols = []\n",
    "for c in skewed_cols:\n",
    "    bins = np.linspace(np.min(tX_train[:, c]), np.max(tX_train[:, c]), 10)\n",
    "    digitized_col = np.digitize(tX_train[:, c], bins)\n",
    "    binned_cols.append(digitized_col.reshape((-1, 1)))"
   ]
  },
  {
   "cell_type": "code",
   "execution_count": null,
   "metadata": {},
   "outputs": [],
   "source": [
    "binned_X = np.hstack(binned_cols)\n",
    "tX_train = np.hstack([tX_train, binned_X])"
   ]
  },
  {
   "cell_type": "code",
   "execution_count": null,
   "metadata": {},
   "outputs": [],
   "source": [
    "corrs = []\n",
    "for i in range(X_train.shape[1]):\n",
    "    corrs.append(np.corrcoef(X_train[:, i].reshape((-1, 1)), y_train.reshape((-1, 1)))[0, 1])"
   ]
  }
 ],
 "metadata": {
  "interpreter": {
   "hash": "34e9dc8c9cd4c2e3341692c7f5472da17e27c062a0f2ac63648b60e63867ef4a"
  },
  "kernelspec": {
   "display_name": "Python 3.9.7 64-bit ('ml': conda)",
   "name": "python3"
  },
  "language_info": {
   "name": "python",
   "version": "3.9.7"
  },
  "orig_nbformat": 4
 },
 "nbformat": 4,
 "nbformat_minor": 2
}
