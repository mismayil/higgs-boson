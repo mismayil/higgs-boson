{
 "cells": [
  {
   "cell_type": "code",
   "execution_count": 1,
   "metadata": {},
   "outputs": [],
   "source": [
    "# Useful starting lines\n",
    "%matplotlib inline\n",
    "import numpy as np\n",
    "import matplotlib.pyplot as plt\n",
    "%load_ext autoreload\n",
    "%autoreload 2"
   ]
  },
  {
   "cell_type": "code",
   "execution_count": 2,
   "metadata": {},
   "outputs": [],
   "source": [
    "from proj1_helpers import *\n",
    "DATA_TRAIN_PATH = 'data/train.csv' # TODO: download train data and supply path here \n",
    "y_train, X_train, ids = load_csv_data(DATA_TRAIN_PATH)"
   ]
  },
  {
   "cell_type": "code",
   "execution_count": 3,
   "metadata": {},
   "outputs": [],
   "source": [
    "DATA_TEST_PATH = 'data/test.csv' # TODO: download train data and supply path here \n",
    "_, X_test, ids_test = load_csv_data(DATA_TEST_PATH)"
   ]
  },
  {
   "cell_type": "code",
   "execution_count": 45,
   "metadata": {},
   "outputs": [],
   "source": [
    "from implementations import preprocess\n",
    "tX_train, ty_train, tX_test, ty_test, cont_features = preprocess(X_train, y_train, X_test, imputable_th=0.3, encodable_min_th=0.3, encodable_max_th=0.7)"
   ]
  },
  {
   "cell_type": "code",
   "execution_count": 32,
   "metadata": {},
   "outputs": [
    {
     "data": {
      "text/plain": [
       "array([[ 1.        ,  0.06833197,  0.40768027, ...,  1.        ,\n",
       "         1.        ,  1.        ],\n",
       "       [ 1.        ,  0.55250482,  0.54013641, ...,  1.        ,\n",
       "         1.        ,  1.        ],\n",
       "       [ 1.        ,  3.19515553,  1.09655998, ...,  1.        ,\n",
       "         1.        ,  1.        ],\n",
       "       ...,\n",
       "       [ 1.        ,  0.31931645, -0.13086367, ...,  1.        ,\n",
       "         1.        ,  1.        ],\n",
       "       [ 1.        , -0.84532397, -0.30297338, ...,  0.        ,\n",
       "         0.        ,  0.        ],\n",
       "       [ 1.        ,  0.66533608, -0.25352276, ...,  0.        ,\n",
       "         0.        ,  0.        ]])"
      ]
     },
     "execution_count": 32,
     "metadata": {},
     "output_type": "execute_result"
    }
   ],
   "source": [
    "tX_train"
   ]
  },
  {
   "cell_type": "code",
   "execution_count": 33,
   "metadata": {},
   "outputs": [
    {
     "data": {
      "text/plain": [
       "((250000, 24), (568238, 24))"
      ]
     },
     "execution_count": 33,
     "metadata": {},
     "output_type": "execute_result"
    }
   ],
   "source": [
    "tX_train.shape, tX_test.shape"
   ]
  },
  {
   "cell_type": "code",
   "execution_count": 34,
   "metadata": {},
   "outputs": [
    {
     "name": "stdout",
     "output_type": "stream",
     "text": [
      "Best Accuracy : 72.93650000000001% reached at epoch 199\n",
      "Best Accuracy : 73.335% reached at epoch 199\n",
      "Best Accuracy : 72.70299999999999% reached at epoch 199\n",
      "Best Accuracy : 72.59299999999999% reached at epoch 199\n",
      "Best Accuracy : 73.251% reached at epoch 199\n",
      "Best Accuracy : 72.928% reached at epoch 199\n",
      "Best Accuracy : 73.31450000000001% reached at epoch 198\n",
      "Best Accuracy : 72.70100000000001% reached at epoch 199\n",
      "Best Accuracy : 72.613% reached at epoch 199\n",
      "Best Accuracy : 73.24249999999999% reached at epoch 199\n",
      "Best Accuracy : 72.963% reached at epoch 198\n",
      "Best Accuracy : 73.1585% reached at epoch 198\n",
      "Best Accuracy : 72.65% reached at epoch 199\n",
      "Best Accuracy : 72.696% reached at epoch 198\n",
      "Best Accuracy : 73.1405% reached at epoch 198\n",
      "Best Accuracy : 71.6365% reached at epoch 95\n",
      "Best Accuracy : 71.646% reached at epoch 77\n",
      "Best Accuracy : 71.334% reached at epoch 174\n",
      "Best Accuracy : 71.4155% reached at epoch 170\n",
      "Best Accuracy : 71.572% reached at epoch 99\n",
      "Best Accuracy : 69.462% reached at epoch 24\n",
      "Best Accuracy : 69.4605% reached at epoch 22\n",
      "Best Accuracy : 69.33% reached at epoch 37\n",
      "Best Accuracy : 69.388% reached at epoch 39\n",
      "Best Accuracy : 69.46% reached at epoch 31\n",
      "Best Accuracy : 78.072% reached at epoch 199\n",
      "Best Accuracy : 78.7775% reached at epoch 199\n",
      "Best Accuracy : 78.589% reached at epoch 197\n",
      "Best Accuracy : 77.85% reached at epoch 199\n",
      "Best Accuracy : 78.428% reached at epoch 199\n",
      "Best Accuracy : 78.0795% reached at epoch 198\n",
      "Best Accuracy : 78.765% reached at epoch 199\n",
      "Best Accuracy : 78.583% reached at epoch 199\n",
      "Best Accuracy : 77.864% reached at epoch 199\n",
      "Best Accuracy : 78.41550000000001% reached at epoch 196\n",
      "Best Accuracy : 78.033% reached at epoch 199\n",
      "Best Accuracy : 78.6585% reached at epoch 193\n",
      "Best Accuracy : 78.44149999999999% reached at epoch 197\n",
      "Best Accuracy : 77.952% reached at epoch 199\n",
      "Best Accuracy : 78.265% reached at epoch 199\n",
      "Best Accuracy : 76.1555% reached at epoch 128\n",
      "Best Accuracy : 76.4795% reached at epoch 76\n",
      "Best Accuracy : 76.2145% reached at epoch 88\n",
      "Best Accuracy : 76.1385% reached at epoch 134\n",
      "Best Accuracy : 76.113% reached at epoch 85\n",
      "Best Accuracy : 69.3475% reached at epoch 11\n",
      "Best Accuracy : 70.647% reached at epoch 10\n",
      "Best Accuracy : 71.3355% reached at epoch 10\n",
      "Best Accuracy : 70.975% reached at epoch 10\n",
      "Best Accuracy : 70.935% reached at epoch 10\n",
      "Best Accuracy : 77.647% reached at epoch 199\n",
      "Best Accuracy : 78.213% reached at epoch 187\n",
      "Best Accuracy : 78.4145% reached at epoch 198\n",
      "Best Accuracy : 77.285% reached at epoch 197\n",
      "Best Accuracy : 78.434% reached at epoch 199\n",
      "Best Accuracy : 77.63250000000001% reached at epoch 197\n",
      "Best Accuracy : 78.2345% reached at epoch 187\n",
      "Best Accuracy : 78.3845% reached at epoch 198\n",
      "Best Accuracy : 77.3385% reached at epoch 197\n",
      "Best Accuracy : 78.45299999999999% reached at epoch 199\n",
      "Best Accuracy : 77.6405% reached at epoch 197\n",
      "Best Accuracy : 78.277% reached at epoch 189\n",
      "Best Accuracy : 78.115% reached at epoch 196\n",
      "Best Accuracy : 77.57300000000001% reached at epoch 199\n",
      "Best Accuracy : 78.337% reached at epoch 185\n",
      "Best Accuracy : 75.226% reached at epoch 191\n",
      "Best Accuracy : 75.82% reached at epoch 95\n",
      "Best Accuracy : 75.002% reached at epoch 105\n",
      "Best Accuracy : 75.541% reached at epoch 189\n",
      "Best Accuracy : 75.41550000000001% reached at epoch 85\n",
      "Best Accuracy : 71.06099999999999% reached at epoch 32\n",
      "Best Accuracy : 71.0535% reached at epoch 44\n",
      "Best Accuracy : 71.7175% reached at epoch 18\n",
      "Best Accuracy : 70.9015% reached at epoch 24\n",
      "Best Accuracy : 70.4645% reached at epoch 12\n"
     ]
    }
   ],
   "source": [
    "from implementations import logistic_regression_cv\n",
    "weights, loss, lambda_, degree, accuracy, f1 = logistic_regression_cv(ty_train, tX_train, max_iters=200, cont_features=cont_features, verbose=False)"
   ]
  },
  {
   "cell_type": "code",
   "execution_count": 35,
   "metadata": {},
   "outputs": [
    {
     "data": {
      "text/plain": [
       "(array([[ 0.23872524],\n",
       "        [-0.57155435],\n",
       "        [-0.00990512],\n",
       "        [ 0.38146168],\n",
       "        [ 0.80410591],\n",
       "        [-0.02636859],\n",
       "        [ 0.20541366],\n",
       "        [-0.29468863],\n",
       "        [ 0.2389753 ],\n",
       "        [ 0.67638841],\n",
       "        [-0.0524618 ],\n",
       "        [ 0.01153473],\n",
       "        [ 0.29985158],\n",
       "        [ 0.0679841 ],\n",
       "        [ 0.00284688],\n",
       "        [ 0.08168035],\n",
       "        [ 0.02530589],\n",
       "        [ 0.20573885],\n",
       "        [ 0.00455425],\n",
       "        [-0.107733  ],\n",
       "        [ 0.22853251],\n",
       "        [-0.21147431],\n",
       "        [ 0.09227908],\n",
       "        [-0.50184131],\n",
       "        [ 0.0614066 ],\n",
       "        [-0.33355662],\n",
       "        [ 0.02385781],\n",
       "        [ 0.01415927],\n",
       "        [ 0.00574094],\n",
       "        [ 0.26353548],\n",
       "        [-0.06885229],\n",
       "        [-0.09601186],\n",
       "        [-0.03304313],\n",
       "        [-0.01071263],\n",
       "        [-0.23095955],\n",
       "        [-0.05340245],\n",
       "        [ 0.00312328],\n",
       "        [ 0.02932327],\n",
       "        [-0.10396382],\n",
       "        [-0.12158887],\n",
       "        [-0.05631481],\n",
       "        [-0.29968226]]),\n",
       " 0.4657866117913868,\n",
       " 0.001,\n",
       " 2,\n",
       " 78.36600000000001,\n",
       " 0.7330741381554299)"
      ]
     },
     "execution_count": 35,
     "metadata": {},
     "output_type": "execute_result"
    }
   ],
   "source": [
    "weights, loss, lambda_, degree, accuracy, f1"
   ]
  },
  {
   "cell_type": "code",
   "execution_count": 44,
   "metadata": {},
   "outputs": [
    {
     "name": "stdout",
     "output_type": "stream",
     "text": [
      "Iteration 0/500\n",
      "Accuracy = 34.318799999999996%\n",
      "Loss = 5.256219006861961\n",
      "\n",
      "\n",
      "Iteration 10/500\n",
      "Accuracy = 60.977599999999995%\n",
      "Loss = 1.3556130430289726\n",
      "\n",
      "\n",
      "Iteration 20/500\n",
      "Accuracy = 66.6364%\n",
      "Loss = 0.7146489905288386\n",
      "\n",
      "\n",
      "Iteration 30/500\n",
      "Accuracy = 69.2048%\n",
      "Loss = 0.6174073431827\n",
      "\n",
      "\n",
      "Iteration 40/500\n",
      "Accuracy = 71.1688%\n",
      "Loss = 0.5695721260713025\n",
      "\n",
      "\n",
      "Iteration 50/500\n",
      "Accuracy = 72.86240000000001%\n",
      "Loss = 0.540001594431089\n",
      "\n",
      "\n",
      "Iteration 60/500\n",
      "Accuracy = 74.1148%\n",
      "Loss = 0.5204350926706494\n",
      "\n",
      "\n",
      "Iteration 70/500\n",
      "Accuracy = 75.1024%\n",
      "Loss = 0.506996866409422\n",
      "\n",
      "\n",
      "Iteration 80/500\n",
      "Accuracy = 75.87559999999999%\n",
      "Loss = 0.49753762151094827\n",
      "\n",
      "\n",
      "Iteration 90/500\n",
      "Accuracy = 76.42999999999999%\n",
      "Loss = 0.4906998332208967\n",
      "\n",
      "\n",
      "Iteration 100/500\n",
      "Accuracy = 76.80160000000001%\n",
      "Loss = 0.4856297105563596\n",
      "\n",
      "\n",
      "Iteration 110/500\n",
      "Accuracy = 77.1132%\n",
      "Loss = 0.48178422373616286\n",
      "\n",
      "\n",
      "Iteration 120/500\n",
      "Accuracy = 77.404%\n",
      "Loss = 0.47880549124432953\n",
      "\n",
      "\n",
      "Iteration 130/500\n",
      "Accuracy = 77.58040000000001%\n",
      "Loss = 0.4764532906805754\n",
      "\n",
      "\n",
      "Iteration 140/500\n",
      "Accuracy = 77.72200000000001%\n",
      "Loss = 0.47456267085117637\n",
      "\n",
      "\n",
      "Iteration 150/500\n",
      "Accuracy = 77.8336%\n",
      "Loss = 0.4730154166291708\n",
      "\n",
      "\n",
      "Iteration 160/500\n",
      "Accuracy = 77.9404%\n",
      "Loss = 0.4717335696195292\n",
      "\n",
      "\n",
      "Iteration 170/500\n",
      "Accuracy = 78.0204%\n",
      "Loss = 0.4706577991629283\n",
      "\n",
      "\n",
      "Iteration 180/500\n",
      "Accuracy = 78.0852%\n",
      "Loss = 0.469742956902547\n",
      "\n",
      "\n",
      "Iteration 190/500\n",
      "Accuracy = 78.1408%\n",
      "Loss = 0.4689557763144139\n",
      "\n",
      "\n",
      "Iteration 200/500\n",
      "Accuracy = 78.18%\n",
      "Loss = 0.46827469875232647\n",
      "\n",
      "\n",
      "Iteration 210/500\n",
      "Accuracy = 78.2256%\n",
      "Loss = 0.4676799292491664\n",
      "\n",
      "\n",
      "Iteration 220/500\n",
      "Accuracy = 78.2732%\n",
      "Loss = 0.46715680859369135\n",
      "\n",
      "\n",
      "Iteration 230/500\n",
      "Accuracy = 78.30799999999999%\n",
      "Loss = 0.46669287058606646\n",
      "\n",
      "\n",
      "Iteration 240/500\n",
      "Accuracy = 78.342%\n",
      "Loss = 0.4662795435551398\n",
      "\n",
      "\n",
      "Iteration 250/500\n",
      "Accuracy = 78.3672%\n",
      "Loss = 0.46590907710149176\n",
      "\n",
      "\n",
      "Iteration 260/500\n",
      "Accuracy = 78.378%\n",
      "Loss = 0.46557531457145584\n",
      "\n",
      "\n",
      "Iteration 270/500\n",
      "Accuracy = 78.3952%\n",
      "Loss = 0.46527306196908436\n",
      "\n",
      "\n",
      "Iteration 280/500\n",
      "Accuracy = 78.42280000000001%\n",
      "Loss = 0.46499730568138653\n",
      "\n",
      "\n",
      "Iteration 290/500\n",
      "Accuracy = 78.444%\n",
      "Loss = 0.4647438613647821\n",
      "\n",
      "\n",
      "Iteration 300/500\n",
      "Accuracy = 78.4648%\n",
      "Loss = 0.4645105595272016\n",
      "\n",
      "\n",
      "Iteration 310/500\n",
      "Accuracy = 78.4748%\n",
      "Loss = 0.46429444925581415\n",
      "\n",
      "\n",
      "Iteration 320/500\n",
      "Accuracy = 78.49080000000001%\n",
      "Loss = 0.46409389341673535\n",
      "\n",
      "\n",
      "Iteration 330/500\n",
      "Accuracy = 78.4892%\n",
      "Loss = 0.46390704910086333\n",
      "\n",
      "\n",
      "Iteration 340/500\n",
      "Accuracy = 78.4956%\n",
      "Loss = 0.4637322812969434\n",
      "\n",
      "\n",
      "Iteration 350/500\n",
      "Accuracy = 78.498%\n",
      "Loss = 0.46356818515010356\n",
      "\n",
      "\n",
      "Iteration 360/500\n",
      "Accuracy = 78.5124%\n",
      "Loss = 0.4634135500138565\n",
      "\n",
      "\n",
      "Iteration 370/500\n",
      "Accuracy = 78.5204%\n",
      "Loss = 0.4632673297270026\n",
      "\n",
      "\n",
      "Iteration 380/500\n",
      "Accuracy = 78.53999999999999%\n",
      "Loss = 0.46312861790878934\n",
      "\n",
      "\n",
      "Iteration 390/500\n",
      "Accuracy = 78.5604%\n",
      "Loss = 0.4629966273307352\n",
      "\n",
      "\n",
      "Iteration 400/500\n",
      "Accuracy = 78.556%\n",
      "Loss = 0.4628706417219408\n",
      "\n",
      "\n",
      "Iteration 410/500\n",
      "Accuracy = 78.5648%\n",
      "Loss = 0.4627498013359039\n",
      "\n",
      "\n",
      "Iteration 420/500\n",
      "Accuracy = 78.5784%\n",
      "Loss = 0.4626333323624714\n",
      "\n",
      "\n",
      "Iteration 430/500\n",
      "Accuracy = 78.5744%\n",
      "Loss = 0.46252135022188345\n",
      "\n",
      "\n",
      "Iteration 440/500\n",
      "Accuracy = 78.5776%\n",
      "Loss = 0.46241323991417255\n",
      "\n",
      "\n",
      "Iteration 450/500\n",
      "Accuracy = 78.5804%\n",
      "Loss = 0.4623088126239911\n",
      "\n",
      "\n",
      "Iteration 460/500\n",
      "Accuracy = 78.5844%\n",
      "Loss = 0.46220781049802684\n",
      "\n",
      "\n",
      "Iteration 470/500\n",
      "Accuracy = 78.5888%\n",
      "Loss = 0.46210995543373684\n",
      "\n",
      "\n",
      "Iteration 480/500\n",
      "Accuracy = 78.5896%\n",
      "Loss = 0.4620150009826032\n",
      "\n",
      "\n",
      "Iteration 490/500\n",
      "Accuracy = 78.60040000000001%\n",
      "Loss = 0.46192272830045417\n",
      "\n",
      "\n",
      "Best Accuracy : 78.6084% reached at epoch 498\n"
     ]
    },
    {
     "data": {
      "image/png": "[encoded data removed]",
      "text/plain": [
       "<Figure size 432x288 with 2 Axes>"
      ]
     },
     "metadata": {
      "needs_background": "light"
     },
     "output_type": "display_data"
    }
   ],
   "source": [
    "from implementations import reg_logistic_regression, build_poly\n",
    "tX_train_poly = build_poly(tX_train, degree=degree, cont_features=cont_features)\n",
    "weights, loss = reg_logistic_regression(ty_train, tX_train_poly, max_iters=500, lambda_=lambda_, verbose=True)"
   ]
  },
  {
   "cell_type": "code",
   "execution_count": 36,
   "metadata": {},
   "outputs": [
    {
     "data": {
      "text/plain": [
       "(568238, 24)"
      ]
     },
     "execution_count": 36,
     "metadata": {},
     "output_type": "execute_result"
    }
   ],
   "source": [
    "tX_test.shape"
   ]
  },
  {
   "cell_type": "code",
   "execution_count": 46,
   "metadata": {},
   "outputs": [],
   "source": [
    "from implementations import build_poly\n",
    "tX_test_poly = build_poly(tX_test, degree, cont_features)"
   ]
  },
  {
   "cell_type": "code",
   "execution_count": 47,
   "metadata": {},
   "outputs": [
    {
     "data": {
      "text/plain": [
       "(568238, 42)"
      ]
     },
     "execution_count": 47,
     "metadata": {},
     "output_type": "execute_result"
    }
   ],
   "source": [
    "tX_test_poly.shape"
   ]
  },
  {
   "cell_type": "code",
   "execution_count": 40,
   "metadata": {},
   "outputs": [],
   "source": [
    "from datetime import datetime\n",
    "from implementations import predict_log_reg\n",
    "method = 'reg_logistic_regression'\n",
    "time = datetime.now().strftime('%Y%m%dH%H%M%S')\n",
    "OUTPUT_PATH = f'submissions/submission_{method}_{time}' # TODO: fill in desired name of output file for submission\n",
    "y_pred = predict_log_reg(weights, tX_test_poly)\n",
    "y_pred[np.where(y_pred == 0)] = -1\n",
    "create_csv_submission(ids_test, y_pred, OUTPUT_PATH)"
   ]
  },
  {
   "cell_type": "code",
   "execution_count": null,
   "metadata": {},
   "outputs": [],
   "source": []
  }
 ],
 "metadata": {
  "interpreter": {
   "hash": "34e9dc8c9cd4c2e3341692c7f5472da17e27c062a0f2ac63648b60e63867ef4a"
  },
  "kernelspec": {
   "display_name": "Python 3.9.7 64-bit ('ml': conda)",
   "name": "python3"
  },
  "language_info": {
   "codemirror_mode": {
    "name": "ipython",
    "version": 3
   },
   "file_extension": ".py",
   "mimetype": "text/x-python",
   "name": "python",
   "nbconvert_exporter": "python",
   "pygments_lexer": "ipython3",
   "version": "3.9.7"
  },
  "orig_nbformat": 4
 },
 "nbformat": 4,
 "nbformat_minor": 2
}
